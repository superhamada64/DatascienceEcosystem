{
 "cells": [
  {
   "cell_type": "markdown",
   "id": "02080d38-3d3e-4536-a49a-2e721ed65361",
   "metadata": {},
   "source": [
    "# Data Science Tools and Ecosystem"
   ]
  },
  {
   "cell_type": "markdown",
   "id": "99cdca2b-c20f-4ac9-8327-6e0b4251c72c",
   "metadata": {},
   "source": [
    "In this notebook, Data Science Tools and Ecosystem are summarized."
   ]
  },
  {
   "cell_type": "markdown",
   "id": "5ee09d4c-0f84-49a8-84bb-681b3cdf7c1d",
   "metadata": {},
   "source": [
    " **Objectives:**\n",
    " - List Some of the popular languages that Data Scientists use\n",
    " - List Some of the commonly used libraries used by Data Scientists\n",
    " - List Data Science Tools"
   ]
  },
  {
   "cell_type": "markdown",
   "id": "9adacb2b-0e30-4231-983c-10ec6ff196b2",
   "metadata": {},
   "source": [
    "Some of the popular languages that Data Scientists use are:\r\n"
   ]
  },
  {
   "cell_type": "markdown",
   "id": "c70a63bd-7fc7-4d7a-b00e-fa884b9e2fff",
   "metadata": {},
   "source": [
    "1. Python\n",
    "2. R\n",
    "3. Julia"
   ]
  },
  {
   "cell_type": "markdown",
   "id": "d9d94322-0b22-494d-b0cf-c5287055344f",
   "metadata": {},
   "source": [
    "Some of the commonly used libraries used by Data Scientists include:\n",
    "1. Matplotlib\n",
    "2. NumPy\n",
    "3. Pandas\n",
    "4. SciPy"
   ]
  },
  {
   "cell_type": "markdown",
   "id": "80bc17d3-931c-4eb5-93b3-535b7dc33ff1",
   "metadata": {},
   "source": [
    "|  Data Science Tools |\n",
    "------------------------\n",
    "| Pandas |\n",
    "| TensorFlow |\n",
    "| PyTorch |"
   ]
  },
  {
   "cell_type": "markdown",
   "id": "24cc7756-1025-432e-aa67-548f55397e7d",
   "metadata": {},
   "source": [
    "### Below are a few examples of evaluating arithmetic expressions in Python.\n",
    "1. 1+1\n",
    "2. 5-3\n",
    "3. 8 * 4"
   ]
  },
  {
   "cell_type": "code",
   "execution_count": 4,
   "id": "6f73b5e5-d967-4441-a071-9b07a987276e",
   "metadata": {},
   "outputs": [],
   "source": [
    "#this a simple arithmetic expression to mutiply then add integers"
   ]
  },
  {
   "cell_type": "code",
   "execution_count": 5,
   "id": "98be7e5a-5c61-4f3a-b27f-5a78a0663fc0",
   "metadata": {},
   "outputs": [
    {
     "data": {
      "text/plain": [
       "17"
      ]
     },
     "execution_count": 5,
     "metadata": {},
     "output_type": "execute_result"
    }
   ],
   "source": [
    "(3*4)+5"
   ]
  },
  {
   "cell_type": "code",
   "execution_count": 11,
   "id": "c89bc1ed-b436-4d14-8178-6d1e58f541fd",
   "metadata": {},
   "outputs": [
    {
     "name": "stdout",
     "output_type": "stream",
     "text": [
      "3.3333333333333335\n"
     ]
    }
   ],
   "source": [
    "#This will convert 200 minutes to hours by dividing by 60\n",
    "x = 200 / 60\n",
    "print(x)"
   ]
  },
  {
   "cell_type": "markdown",
   "id": "39b94eeb-9cb6-40b2-a2b1-cba7aa669705",
   "metadata": {},
   "source": [
    "## Author\n",
    "Ahmad"
   ]
  },
  {
   "cell_type": "code",
   "execution_count": null,
   "id": "ccb9ba87-287f-4966-a46e-864f365ab917",
   "metadata": {},
   "outputs": [],
   "source": []
  }
 ],
 "metadata": {
  "kernelspec": {
   "display_name": "Python 3 (ipykernel)",
   "language": "python",
   "name": "python3"
  },
  "language_info": {
   "codemirror_mode": {
    "name": "ipython",
    "version": 3
   },
   "file_extension": ".py",
   "mimetype": "text/x-python",
   "name": "python",
   "nbconvert_exporter": "python",
   "pygments_lexer": "ipython3",
   "version": "3.11.7"
  }
 },
 "nbformat": 4,
 "nbformat_minor": 5
}
